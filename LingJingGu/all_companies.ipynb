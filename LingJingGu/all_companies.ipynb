{
 "cells": [
  {
   "cell_type": "code",
   "execution_count": 11,
   "id": "9589f853-9046-42ad-b09e-d1fdf418e72a",
   "metadata": {},
   "outputs": [
    {
     "name": "stdout",
     "output_type": "stream",
     "text": [
      "🏭 All companies with non-zero Fluoranthene emissions:\n",
      "                             operator name  quantity released (kg)\n",
      "0             VIRIDOR WASTE MANAGEMENT LTD               104.07786\n",
      "1               THAMES WATER UTILITIES LTD                87.44870\n",
      "2               UNITED UTILITIES WATER PLC                49.55200\n",
      "3                   SEVERN TRENT WATER LTD                42.06000\n",
      "4               Esso Petroleum Company Ltd                40.01000\n",
      "5                            Anglian Water                16.79000\n",
      "6                   Longs Steel UK Limited                13.75000\n",
      "7                   NORTHUMBRIAN WATER LTD                13.34000\n",
      "8                           Southern Water                12.70000\n",
      "9            Severn Waste Services Limited                 9.79700\n",
      "10                            Wessex Water                 8.93000\n",
      "11                   British Steel Limited                 7.37000\n",
      "12        Viridor Waste Management Limited                 5.62173\n",
      "13  Sahaviriya Steel Industries UK Limited                 3.94800\n",
      "14                    SOUTH WEST WATER LTD                 3.33000\n",
      "15          ESSO Petroleum Company Limited                 1.82000\n",
      "16       Valencia Waste Management Limited                 0.72132\n",
      "17   Bradley Park Waste Management Limited                 0.70000\n",
      "18                     Phillips 66 Limited                 0.68000\n",
      "19           Urbaser Environmental Limited                 0.63000\n",
      "20                DWR CYMRU CYFYNGEDIG LTD                 0.45000\n",
      "21           Haltermann Carless UK Limited                 0.24077\n",
      "22            Viridor Waste Exeter Limited                 0.12800\n",
      "23                    DWR CYMRU CYFYNGEDIG                 0.10000\n",
      "\n",
      "📊 Total number of companies that emitted Fluoranthene: 24\n"
     ]
    }
   ],
   "source": [
    "import pandas as pd\n",
    "\n",
    "# Load the Excel file\n",
    "file_path = \"C:/Users/qp24297/Desktop/Final_dataset/Fluoranthene_only.xlsx\"\n",
    "df = pd.read_excel(file_path)\n",
    "\n",
    "# Clean up column names: remove leading/trailing spaces and convert to lowercase\n",
    "df.columns = df.columns.str.strip().str.lower()\n",
    "\n",
    "# Group by company name and calculate the total released quantity per operator\n",
    "emitter_totals = (\n",
    "    df.groupby(\"operator name\")[\"quantity released (kg)\"]\n",
    "    .sum()\n",
    "    .reset_index()\n",
    ")\n",
    "\n",
    "# Filter out companies with zero total emissions\n",
    "nonzero_emitters = emitter_totals[emitter_totals[\"quantity released (kg)\"] > 0]\n",
    "\n",
    "# Sort by total emissions in descending order\n",
    "nonzero_emitters = nonzero_emitters.sort_values(by=\"quantity released (kg)\", ascending=False).reset_index(drop=True)\n",
    "\n",
    "# Display the result\n",
    "print(\"🏭 All companies with non-zero Fluoranthene emissions:\")\n",
    "print(nonzero_emitters)\n",
    "\n",
    "print(f\"\\n📊 Total number of companies that emitted Fluoranthene: {len(nonzero_emitters)}\")\n"
   ]
  },
  {
   "cell_type": "code",
   "execution_count": 16,
   "id": "3dcd3676-b7ac-4067-b456-b0eef1eaec5a",
   "metadata": {},
   "outputs": [
    {
     "name": "stdout",
     "output_type": "stream",
     "text": [
      "                             operator name  quantity released (kg)  rank\n",
      "0         VIRIDOR WASTE MANAGEMENT LIMITED               109.69959     1\n",
      "1               THAMES WATER UTILITIES LTD                87.44870     2\n",
      "2               UNITED UTILITIES WATER PLC                49.55200     3\n",
      "3                   SEVERN TRENT WATER LTD                42.06000     4\n",
      "4           ESSO PETROLEUM COMPANY LIMITED                41.83000     5\n",
      "5                            ANGLIAN WATER                16.79000     6\n",
      "6                   LONGS STEEL UK LIMITED                13.75000     7\n",
      "7                   NORTHUMBRIAN WATER LTD                13.34000     8\n",
      "8                           SOUTHERN WATER                12.70000     9\n",
      "9            SEVERN WASTE SERVICES LIMITED                 9.79700    10\n",
      "10                            WESSEX WATER                 8.93000    11\n",
      "11                   BRITISH STEEL LIMITED                 7.37000    12\n",
      "12  SAHAVIRIYA STEEL INDUSTRIES UK LIMITED                 3.94800    13\n",
      "13                    SOUTH WEST WATER LTD                 3.33000    14\n",
      "14       VALENCIA WASTE MANAGEMENT LIMITED                 0.72132    15\n",
      "15   BRADLEY PARK WASTE MANAGEMENT LIMITED                 0.70000    16\n",
      "16                     PHILLIPS 66 LIMITED                 0.68000    17\n",
      "17           URBASER ENVIRONMENTAL LIMITED                 0.63000    18\n",
      "18                    DWR CYMRU CYFYNGEDIG                 0.55000    19\n",
      "19           HALTERMANN CARLESS UK LIMITED                 0.24077    20\n",
      "20            VIRIDOR WASTE EXETER LIMITED                 0.12800    21\n"
     ]
    }
   ],
   "source": [
    "import pandas as pd\n",
    "\n",
    "# Normalize company names: uppercase and strip whitespace\n",
    "df['operator name'] = df['operator name'].str.upper().str.strip()\n",
    "\n",
    "# Dictionary to map variations to standardized company names\n",
    "company_name_mapping = {\n",
    "    'ESSO PETROLEUM COMPANY LTD': 'ESSO PETROLEUM COMPANY LIMITED',\n",
    "    'ESSO PETROLEUM COMPANY LIMITED': 'ESSO PETROLEUM COMPANY LIMITED',\n",
    "    'DWR CYMRU CYFYNGEDIG LTD': 'DWR CYMRU CYFYNGEDIG',\n",
    "    'DWR CYMRU CYFYNGEDIG': 'DWR CYMRU CYFYNGEDIG',\n",
    "    'VIRIDOR WASTE MANAGEMENT LTD': 'VIRIDOR WASTE MANAGEMENT LIMITED',\n",
    "    'VIRIDOR WASTE MANAGEMENT LIMITED': 'VIRIDOR WASTE MANAGEMENT LIMITED',\n",
    "}\n",
    "\n",
    "# Apply the mapping to standardize names\n",
    "df['operator name'] = df['operator name'].replace(company_name_mapping)\n",
    "\n",
    "# Group by standardized operator name and sum emissions\n",
    "company_emissions_ranked = (\n",
    "    df.groupby('operator name')['quantity released (kg)']\n",
    "    .sum()\n",
    "    .reset_index()\n",
    "    .sort_values(by='quantity released (kg)', ascending=False)\n",
    "    .reset_index(drop=True)\n",
    ")\n",
    "\n",
    "# Add ranking column\n",
    "company_emissions_ranked['rank'] = company_emissions_ranked.index + 1\n",
    "\n",
    "# Display the corrected result\n",
    "print(company_emissions_ranked)\n"
   ]
  },
  {
   "cell_type": "code",
   "execution_count": null,
   "id": "b45c0872-223a-41c6-ade9-e21833ccfbd6",
   "metadata": {},
   "outputs": [],
   "source": []
  }
 ],
 "metadata": {
  "kernelspec": {
   "display_name": "Python 3 (ipykernel)",
   "language": "python",
   "name": "python3"
  },
  "language_info": {
   "codemirror_mode": {
    "name": "ipython",
    "version": 3
   },
   "file_extension": ".py",
   "mimetype": "text/x-python",
   "name": "python",
   "nbconvert_exporter": "python",
   "pygments_lexer": "ipython3",
   "version": "3.12.7"
  }
 },
 "nbformat": 4,
 "nbformat_minor": 5
}
