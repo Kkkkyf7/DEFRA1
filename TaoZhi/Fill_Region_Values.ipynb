{
 "cells": [
  {
   "cell_type": "code",
   "execution_count": null,
   "id": "afe5a180",
   "metadata": {},
   "outputs": [],
   "source": [
    "import pandas as pd\n",
    "\n",
    "# Reading Excel files\n",
    "file_path = \"pollution_no_gas_cleaned.xlsx\"\n",
    "df = pd.read_excel(file_path)\n",
    "\n",
    "# View the number of missing REGIONs\n",
    "missing_before = df['REGION'].isna().sum()\n",
    "print(f\"Amount of REGION missing before filling: {missing_before}\")\n"
   ]
  },
  {
   "cell_type": "code",
   "execution_count": null,
   "id": "9cd6d3ca",
   "metadata": {},
   "outputs": [],
   "source": [
    "# Match dictionary: EA AREA NAME -> REGION\n",
    "ea_to_region_fill = {\n",
    "    \"West Midlands\": \"West Midlands\",\n",
    "    \"Cumbria and Lancashire\": \"North West\",\n",
    "    \"East Anglia\": \"East of England\",\n",
    "    \"Lincolnshire and Northamptonshire\": \"East Midlands\"\n",
    "}\n",
    "\n",
    "# Fill in missing REGION values\n",
    "df['REGION'] = df.apply(\n",
    "    lambda row: ea_to_region_fill.get(row['EA AREA NAME'], row['REGION']) if pd.isna(row['REGION']) else row['REGION'],\n",
    "    axis=1\n",
    ")"
   ]
  },
  {
   "cell_type": "code",
   "execution_count": null,
   "id": "f374aae6",
   "metadata": {},
   "outputs": [],
   "source": [
    "# Verify that there are no missing values after filling\n",
    "missing_after = df['REGION'].isna().sum()\n",
    "print(f\"Amount of REGION missing after filling: {missing_after}\")"
   ]
  },
  {
   "cell_type": "code",
   "execution_count": null,
   "id": "9cd8ac62",
   "metadata": {},
   "outputs": [],
   "source": [
    "# Save as a new Excel file\n",
    "output_path = \"pollution_no_gas_cleaned_filled.xlsx\"\n",
    "df.to_excel(output_path, index=False)\n",
    "print(f\"The new file has been saved as：{output_path}\")"
   ]
  }
 ],
 "metadata": {
  "kernelspec": {
   "display_name": "Python 3 (ipykernel)",
   "language": "python",
   "name": "python3"
  },
  "language_info": {
   "codemirror_mode": {
    "name": "ipython",
    "version": 3
   },
   "file_extension": ".py",
   "mimetype": "text/x-python",
   "name": "python",
   "nbconvert_exporter": "python",
   "pygments_lexer": "ipython3",
   "version": "3.12.7"
  }
 },
 "nbformat": 4,
 "nbformat_minor": 5
}
